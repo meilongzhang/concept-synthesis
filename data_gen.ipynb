{
 "cells": [
  {
   "cell_type": "code",
   "execution_count": 1,
   "metadata": {},
   "outputs": [
    {
     "name": "stdout",
     "output_type": "stream",
     "text": [
      "/Users/meilongzhang/knightlab/codet5/libraries\n"
     ]
    }
   ],
   "source": [
    "%cd libraries\n",
    "import LOTlib3"
   ]
  },
  {
   "cell_type": "code",
   "execution_count": 46,
   "metadata": {},
   "outputs": [
    {
     "name": "stdout",
     "output_type": "stream",
     "text": [
      "/Users/meilongzhang/knightlab/codet5/libraries\n"
     ]
    }
   ],
   "source": [
    "import os\n",
    "print(os.getcwd())"
   ]
  },
  {
   "cell_type": "code",
   "execution_count": 12,
   "metadata": {},
   "outputs": [],
   "source": [
    "import matplotlib.pyplot as plt"
   ]
  },
  {
   "cell_type": "code",
   "execution_count": 20,
   "metadata": {},
   "outputs": [],
   "source": [
    "import numpy as np"
   ]
  },
  {
   "cell_type": "code",
   "execution_count": 14,
   "metadata": {},
   "outputs": [],
   "source": [
    "import pandas as pd"
   ]
  },
  {
   "cell_type": "code",
   "execution_count": 23,
   "metadata": {},
   "outputs": [],
   "source": [
    "import random"
   ]
  },
  {
   "cell_type": "code",
   "execution_count": 30,
   "metadata": {},
   "outputs": [],
   "source": [
    "import json"
   ]
  },
  {
   "cell_type": "code",
   "execution_count": 2,
   "metadata": {},
   "outputs": [],
   "source": [
    "from LOTlib3.Hypotheses.LOTHypothesis import LOTHypothesis\n",
    "from LOTlib3.DataAndObjects import FunctionData, Obj"
   ]
  },
  {
   "cell_type": "code",
   "execution_count": 3,
   "metadata": {},
   "outputs": [],
   "source": [
    "from LOTlib3.DefaultGrammars import DNF\n",
    "from LOTlib3.Miscellaneous import q, random\n",
    "from LOTlib3.Grammar import Grammar"
   ]
  },
  {
   "cell_type": "code",
   "execution_count": 4,
   "metadata": {},
   "outputs": [
    {
     "data": {
      "text/plain": [
       "PRE-PREDICATE -> ['PREDICATE']\tw/ p=5.0"
      ]
     },
     "execution_count": 4,
     "metadata": {},
     "output_type": "execute_result"
    }
   ],
   "source": [
    "DEFAULT_FEATURE_WEIGHT = 5\n",
    "grammar = Grammar()\n",
    "grammar.add_rule('START', '', ['DISJ'], 1.0)\n",
    "grammar.add_rule('START', '', ['PRE-PREDICATE'], DEFAULT_FEATURE_WEIGHT)\n",
    "grammar.add_rule('START', 'True', None, DEFAULT_FEATURE_WEIGHT)\n",
    "grammar.add_rule('START', 'False', None, DEFAULT_FEATURE_WEIGHT)\n",
    "\n",
    "grammar.add_rule('DISJ', '',     ['CONJ'], 1.0)\n",
    "grammar.add_rule('DISJ', '',     ['PRE-PREDICATE'], DEFAULT_FEATURE_WEIGHT)\n",
    "grammar.add_rule('DISJ', '(%s or %s)',  ['PRE-PREDICATE', 'DISJ'], 1.0)\n",
    "\n",
    "grammar.add_rule('CONJ', '',     ['PRE-PREDICATE'], DEFAULT_FEATURE_WEIGHT)\n",
    "grammar.add_rule('CONJ', '(%s and %s)', ['PRE-PREDICATE', 'CONJ'], 1.0)\n",
    "\n",
    "# A pre-predicate is how we treat negation\n",
    "grammar.add_rule('PRE-PREDICATE', 'not (%s)', ['PREDICATE'], DEFAULT_FEATURE_WEIGHT)\n",
    "grammar.add_rule('PRE-PREDICATE', '',     ['PREDICATE'], DEFAULT_FEATURE_WEIGHT)"
   ]
  },
  {
   "cell_type": "code",
   "execution_count": 5,
   "metadata": {},
   "outputs": [
    {
     "data": {
      "text/plain": [
       "SHAPE -> 'triangle'\tw/ p=1.0"
      ]
     },
     "execution_count": 5,
     "metadata": {},
     "output_type": "execute_result"
    }
   ],
   "source": [
    "#grammar.add_rule('PREDICATE', 'is_color_', ['x', 'COLOR'], 1.0)\n",
    "#grammar.add_rule('PREDICATE', 'is_shape_', ['x', 'SHAPE'], 1.0)\n",
    "grammar.add_rule('PREDICATE', \"x['color']==%s\", ['COLOR'], 1.0)\n",
    "grammar.add_rule('PREDICATE', \"x['shape']==%s\", ['SHAPE'], 1.0)\n",
    "\n",
    "# Some colors/shapes each (for this simple demo)\n",
    "# These are written in quotes so they can be evaled\n",
    "grammar.add_rule('COLOR', q('red'), None, 1.0)\n",
    "grammar.add_rule('COLOR', q('blue'), None, 1.0)\n",
    "grammar.add_rule('COLOR', q('green'), None, 1.0)\n",
    "\n",
    "\n",
    "grammar.add_rule('SHAPE', q('square'), None, 1.0)\n",
    "grammar.add_rule('SHAPE', q('circle'), None, 1.0)\n",
    "grammar.add_rule('SHAPE', q('triangle'), None, 1.0)"
   ]
  },
  {
   "cell_type": "code",
   "execution_count": 6,
   "metadata": {},
   "outputs": [],
   "source": [
    "rules = {i: set() for i in range(15)}\n",
    "for _ in range(100000):\n",
    "    #rule = grammar.generate()\n",
    "    #log_prob = grammar.log_probability(rule)\n",
    "    rule = LOTHypothesis(grammar=grammar)\n",
    "    depth = rule.value.depth() #rule.depth()\n",
    "    rules[depth].add(rule)"
   ]
  },
  {
   "cell_type": "code",
   "execution_count": 7,
   "metadata": {},
   "outputs": [],
   "source": [
    "rules = {depth: list(depth_rules) for depth, depth_rules in rules.items()}"
   ]
  },
  {
   "cell_type": "code",
   "execution_count": 8,
   "metadata": {},
   "outputs": [],
   "source": [
    "colors = ['red', 'blue', 'green']\n",
    "shapes = ['circle', 'square', 'triangle']\n",
    "all_stimuli = []\n",
    "\n",
    "for color in colors:\n",
    "    for shape in shapes:\n",
    "        all_stimuli.append({'shape':shape, 'color':color})"
   ]
  },
  {
   "cell_type": "code",
   "execution_count": 9,
   "metadata": {},
   "outputs": [
    {
     "ename": "NameError",
     "evalue": "name 'test' is not defined",
     "output_type": "error",
     "traceback": [
      "\u001b[0;31m---------------------------------------------------------------------------\u001b[0m",
      "\u001b[0;31mNameError\u001b[0m                                 Traceback (most recent call last)",
      "\u001b[0;32m<ipython-input-9-6fedfe01cef0>\u001b[0m in \u001b[0;36m<module>\u001b[0;34m\u001b[0m\n\u001b[1;32m      1\u001b[0m \u001b[0;32mfor\u001b[0m \u001b[0mstim\u001b[0m \u001b[0;32min\u001b[0m \u001b[0mall_stimuli\u001b[0m\u001b[0;34m:\u001b[0m\u001b[0;34m\u001b[0m\u001b[0;34m\u001b[0m\u001b[0m\n\u001b[0;32m----> 2\u001b[0;31m     \u001b[0mresult\u001b[0m \u001b[0;34m=\u001b[0m \u001b[0mtest\u001b[0m\u001b[0;34m(\u001b[0m\u001b[0mstim\u001b[0m\u001b[0;34m)\u001b[0m\u001b[0;34m\u001b[0m\u001b[0;34m\u001b[0m\u001b[0m\n\u001b[0m\u001b[1;32m      3\u001b[0m     \u001b[0mprint\u001b[0m\u001b[0;34m(\u001b[0m\u001b[0mstim\u001b[0m\u001b[0;34m,\u001b[0m \u001b[0mresult\u001b[0m\u001b[0;34m)\u001b[0m\u001b[0;34m\u001b[0m\u001b[0;34m\u001b[0m\u001b[0m\n",
      "\u001b[0;31mNameError\u001b[0m: name 'test' is not defined"
     ]
    }
   ],
   "source": [
    "for stim in all_stimuli:\n",
    "    result = test(stim)\n",
    "    print(stim, result)"
   ]
  },
  {
   "cell_type": "code",
   "execution_count": 10,
   "metadata": {},
   "outputs": [
    {
     "ename": "SyntaxError",
     "evalue": "invalid syntax (<ipython-input-10-1d65cccb7419>, line 2)",
     "output_type": "error",
     "traceback": [
      "\u001b[0;36m  File \u001b[0;32m\"<ipython-input-10-1d65cccb7419>\"\u001b[0;36m, line \u001b[0;32m2\u001b[0m\n\u001b[0;31m    prompt = \"Write a lambda expression in Python that transforms the elements of input into the elements of output.\" +\u001b[0m\n\u001b[0m                                                                                                                       ^\u001b[0m\n\u001b[0;31mSyntaxError\u001b[0m\u001b[0;31m:\u001b[0m invalid syntax\n"
     ]
    }
   ],
   "source": [
    "def make_training_example(rule_string, stimulus_list, output_list):\n",
    "    prompt = \"Write a lambda expression in Python that transforms the elements of input into the elements of output.\" +\n",
    "             f\"input = {stimulus_list} \\n output = {output_list}\"\n",
    "    rule = rule_string\n",
    "    return prompt, rule \n",
    "            "
   ]
  },
  {
   "cell_type": "markdown",
   "metadata": {},
   "source": [
    "# TO DO\n",
    "\n",
    "Sample 100 rules that differ in depth (maybe sample from a gaussian esstimated from the depth counts, so mean depth is sampled most, very short and very long programs sampled less often)\n",
    "\n",
    "For each rule, create training examples where the input is some description of the task, a list of stimuli, and a list of outputs. Number of stimuli in each training example should draw from some random number 1-15, and the actual stimuli should be saampled randomly from all stimuli.\n",
    "\n",
    "For each rule, you might want to generate several 'traning examples' with the same rule but differing number of input stimuli, so thaat it knows to generalize \n",
    "\n",
    "1. Determine rule\n",
    "2. Determine number of stimuli\n",
    "3. Determine actual stimuli\n",
    "\n",
    "\"Write a function\" \"Write a lambda expression that, when applied to the elements of input, generates the elements of output\"\n"
   ]
  },
  {
   "cell_type": "code",
   "execution_count": 29,
   "metadata": {},
   "outputs": [],
   "source": [
    "def apply_rule(rule, stimuli):\n",
    "    results = []\n",
    "    for stim in stimuli:\n",
    "        #results[stim] = rule(stim)\n",
    "        results.append(rule(stim))\n",
    "    return results"
   ]
  },
  {
   "cell_type": "code",
   "execution_count": 15,
   "metadata": {},
   "outputs": [],
   "source": [
    "for x in rules:\n",
    "    rules[x] = len(rules[x])"
   ]
  },
  {
   "cell_type": "code",
   "execution_count": 17,
   "metadata": {},
   "outputs": [
    {
     "data": {
      "text/plain": [
       "<BarContainer object of 15 artists>"
      ]
     },
     "execution_count": 17,
     "metadata": {},
     "output_type": "execute_result"
    },
    {
     "data": {
      "image/png": "[encoded data removed]",
      "text/plain": [
       "<Figure size 432x288 with 1 Axes>"
      ]
     },
     "metadata": {
      "needs_background": "light"
     },
     "output_type": "display_data"
    }
   ],
   "source": [
    "plt.bar(rules.keys(), rules.values())"
   ]
  },
  {
   "cell_type": "code",
   "execution_count": 18,
   "metadata": {},
   "outputs": [],
   "source": [
    "rules2 = set()\n",
    "for _ in range(100000):\n",
    "    #rule = grammar.generate()\n",
    "    #log_prob = grammar.log_probability(rule)\n",
    "    rule2 = LOTHypothesis(grammar=grammar)\n",
    "    rules2.add(rule2)"
   ]
  },
  {
   "cell_type": "code",
   "execution_count": 21,
   "metadata": {},
   "outputs": [],
   "source": [
    "rarr = list(rules2)"
   ]
  },
  {
   "cell_type": "code",
   "execution_count": 24,
   "metadata": {},
   "outputs": [],
   "source": [
    "ra = random.sample(rarr, 100)"
   ]
  },
  {
   "cell_type": "code",
   "execution_count": 53,
   "metadata": {},
   "outputs": [],
   "source": [
    "with open('../data/lotlib_tune.json', 'w') as out:\n",
    "    for rule in ra:\n",
    "    \n",
    "        for _ in range(3):\n",
    "            num_stimuli = random.randrange(1, 15)\n",
    "            stims = random.choices(all_stimuli, k=num_stimuli)\n",
    "            results = apply_rule(rule, stims)\n",
    "            prompt = \"Create a function that takes in each item in \" + str(stims) + \" and returns the corresponding item in \" + str(results)\n",
    "            data = {}\n",
    "            data[\"code\"] = str(rule)\n",
    "            data[\"n1\"] = prompt\n",
    "            json.dump(data, out)\n",
    "            out.write('\\n')\n",
    "out.close()"
   ]
  }
 ],
 "metadata": {
  "kernelspec": {
   "display_name": "Python 3",
   "language": "python",
   "name": "python3"
  },
  "language_info": {
   "codemirror_mode": {
    "name": "ipython",
    "version": 3
   },
   "file_extension": ".py",
   "mimetype": "text/x-python",
   "name": "python",
   "nbconvert_exporter": "python",
   "pygments_lexer": "ipython3",
   "version": "3.7.4"
  }
 },
 "nbformat": 4,
 "nbformat_minor": 2
}
